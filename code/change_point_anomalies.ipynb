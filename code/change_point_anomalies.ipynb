{
 "cells": [
  {
   "cell_type": "code",
   "execution_count": 45,
   "id": "65e76af9",
   "metadata": {},
   "outputs": [],
   "source": [
    "import pandas as pd\n",
    "import numpy as np"
   ]
  },
  {
   "cell_type": "code",
   "execution_count": null,
   "id": "c3837033",
   "metadata": {},
   "outputs": [],
   "source": [
    "with open('../data/co2_emissions.csv') as f:\n",
    "    df = pd.read_csv(f)"
   ]
  },
  {
   "cell_type": "markdown",
   "id": "d17f71d0",
   "metadata": {},
   "source": [
    "Group the data by `country_code`, sort each group by year, compute the anomaly using the LLR function, run permutation testing, filter for significant anomalies (p-value < 0.05), and finally sort the results by LLR in descending order."
   ]
  },
  {
   "cell_type": "code",
   "execution_count": 47,
   "id": "3a1966de",
   "metadata": {},
   "outputs": [],
   "source": [
    "def compute_llr(x):\n",
    "    \"\"\"\n",
    "    Compute the maximum log-likelihood ratio (LLR) for a change point in a 1D array x.\n",
    "    Returns the best LLR score, the index of the best change point, and the anomalous subset S*.\n",
    "    \n",
    "    Parameters:\n",
    "        x (np.array): Array of numeric data.\n",
    "    \n",
    "    Returns:\n",
    "        best_llr (float): Maximum improvement in fit (LLR score).\n",
    "        best_t (int): Index of the best change point.\n",
    "        best_subset (np.array): The anomalous subset, i.e. x[:best_t].\n",
    "    \"\"\"\n",
    "    n = len(x)\n",
    "    if n < 2:\n",
    "        return None, None, None\n",
    "\n",
    "    mean_all = np.mean(x)\n",
    "    sse_all = np.sum((x - mean_all) ** 2)\n",
    "\n",
    "    best_llr = -np.inf\n",
    "    best_t = None\n",
    "    best_subset = None\n",
    "\n",
    "    for t in range(1, n):\n",
    "        seg1 = x[:t]\n",
    "        seg2 = x[t:]\n",
    "        mean1 = np.mean(seg1)\n",
    "        mean2 = np.mean(seg2)\n",
    "        sse1 = np.sum((seg1 - mean1) ** 2)\n",
    "        sse2 = np.sum((seg2 - mean2) ** 2)\n",
    "        sse_split = sse1 + sse2\n",
    "        llr = sse_all - sse_split\n",
    "        if llr > best_llr:\n",
    "            best_llr = llr\n",
    "            best_t = t\n",
    "            best_subset = x[:t]\n",
    "\n",
    "    return best_llr, best_t, best_subset"
   ]
  },
  {
   "cell_type": "code",
   "execution_count": 48,
   "id": "76d0f203",
   "metadata": {},
   "outputs": [],
   "source": [
    "results = {}\n",
    "\n",
    "# Process the data on a per-country basis using 'country_code'\n",
    "for country, group in df.groupby('country_code'):\n",
    "    group_sorted = group.sort_values('year')\n",
    "    emissions = group_sorted['value'].values\n",
    "    if len(emissions) < 2:\n",
    "        continue\n",
    "\n",
    "    observed_llr, best_index, anomalous_subset = compute_llr(emissions)\n",
    "    \n",
    "    # Extract all years corresponding to the anomalous subset\n",
    "    anomalous_years = group_sorted['year'].iloc[:best_index].tolist()\n",
    "    best_year = group_sorted.iloc[best_index]['year']\n",
    "\n",
    "    num_permutations = 1000\n",
    "    llr_permutations = np.zeros(num_permutations)\n",
    "    for i in range(num_permutations):\n",
    "        emissions_perm = np.random.permutation(emissions)\n",
    "        llr_perm, _, _ = compute_llr(emissions_perm)\n",
    "        llr_permutations[i] = llr_perm if llr_perm is not None else -np.inf\n",
    "\n",
    "    p_value = np.mean(llr_permutations >= observed_llr)\n",
    "\n",
    "    results[country] = {\n",
    "        'observed_llr': observed_llr,\n",
    "        'best_change_point_index': best_index,\n",
    "        'best_year': best_year,\n",
    "        'anomalous_years': anomalous_years,\n",
    "        'p_value': p_value,\n",
    "        'n_points': len(emissions)\n",
    "    }\n",
    "\n",
    "# Filter and sort results: only include countries with a p-value < 0.05, sorted by LLR descending.\n",
    "filtered_sorted_results = sorted(\n",
    "    [(country, res) for country, res in results.items() if res['p_value'] < 0.05],\n",
    "    key=lambda item: item[1]['observed_llr'], reverse=True\n",
    ")\n",
    "\n",
    "# Display the filtered and sorted results per country\n",
    "for country, res in filtered_sorted_results:\n",
    "    print(f\"\\nCountry: {country}\")\n",
    "    print(f\"  Observed LLR: {res['observed_llr']}\")\n",
    "    print(f\"  Best Change Point Index: {res['best_change_point_index']} (Year: {res['best_year']})\")\n",
    "    print(f\"  Anomalous Years: {res['anomalous_years']}\")\n",
    "    print(f\"  p-value from permutation testing: {res['p_value']}\")\n",
    "    print(f\"  Number of Data Points: {res['n_points']}\")\n"
   ]
  }
 ],
 "metadata": {
  "kernelspec": {
   "display_name": "Python 3",
   "language": "python",
   "name": "python3"
  },
  "language_info": {
   "codemirror_mode": {
    "name": "ipython",
    "version": 3
   },
   "file_extension": ".py",
   "mimetype": "text/x-python",
   "name": "python",
   "nbconvert_exporter": "python",
   "pygments_lexer": "ipython3",
   "version": "3.13.2"
  }
 },
 "nbformat": 4,
 "nbformat_minor": 5
}
