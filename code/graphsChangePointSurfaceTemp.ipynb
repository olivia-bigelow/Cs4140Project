{
 "cells": [
  {
   "cell_type": "code",
   "execution_count": null,
   "metadata": {
    "id": "PQfQKxNemvGn"
   },
   "outputs": [],
   "source": [
    "import pandas as pd\n",
    "import numpy as np"
   ]
  },
  {
   "cell_type": "code",
   "execution_count": null,
   "metadata": {
    "colab": {
     "base_uri": "https://localhost:8080/"
    },
    "id": "lPJdnWhLq9Zu",
    "outputId": "07185e56-af17-4bea-f8f5-bbf1ad928773"
   },
   "outputs": [],
   "source": [
    "with open('../data/continents2.csv') as f:\n",
    "  regions = pd.read_csv(f)\n",
    "  print(regions['sub-region'].unique())"
   ]
  },
  {
   "cell_type": "code",
   "execution_count": null,
   "metadata": {
    "id": "QLHCw_yHvq99"
   },
   "outputs": [],
   "source": [
    "def clusterByRegion(Data, MeanAggregation=True):\n",
    "  \"\"\"\n",
    "    Clusters the Dataset by region applying the sub regions found in the continents2 dataset\n",
    "\n",
    "    Parameters:\n",
    "        x (pd.DataFrame) the dataset to be grouped\n",
    "        MeanAggregation (boolean) if true, takes the mean of Data's Features, if false, takes the sum of the features\n",
    "\n",
    "    Returns:\n",
    "        grouped (pd.DataFrame) a grouped dataframe\n",
    "    \"\"\"\n",
    "  regions = pd.read_csv(\"../data/continents2.csv\")\n",
    "  regions = regions[['alpha-3', 'sub-region']]\n",
    "\n",
    "  merge = Data.merge(regions, how = \"left\", left_on = 'country_code', right_on ='alpha-3' )\n",
    "  merge.drop(['country_code', 'country_name', \"alpha-3\"], axis=1, inplace=True)\n",
    "\n",
    "  if MeanAggregation:\n",
    "    grouped = merge.groupby(['sub-region', 'year'], as_index=False).agg('mean')\n",
    "  else:\n",
    "    grouped = merge.groupby(['sub-region', 'year'],as_index=False).agg('sum')\n",
    "\n",
    "  return grouped\n"
   ]
  },
  {
   "cell_type": "code",
   "execution_count": null,
   "metadata": {
    "colab": {
     "base_uri": "https://localhost:8080/"
    },
    "id": "fM7tYyQ2vsRl",
    "outputId": "a4b336c5-4624-4085-8e6c-3d7daac07598"
   },
   "outputs": [],
   "source": [
    "data = pd.read_csv('../data/surface_temperature.csv')\n",
    "df = clusterByRegion(data, False)\n",
    "print(df)"
   ]
  },
  {
   "cell_type": "markdown",
   "metadata": {
    "id": "d17f71d0"
   },
   "source": [
    "Group the data by `sub-region`, sort each group by year, compute the anomaly using the LLR function, run permutation testing, filter for significant anomalies (p-value < 0.05), and finally sort the results by LLR in descending order."
   ]
  },
  {
   "cell_type": "code",
   "execution_count": null,
   "metadata": {
    "id": "koJ6JV8Ivs3m"
   },
   "outputs": [],
   "source": [
    "def compute_llr(x):\n",
    "    \"\"\"\n",
    "    Compute the maximum log-likelihood ratio (LLR) for a change point in a 1D array x.\n",
    "    Returns the best LLR score, the index of the best change point, and the anomalous subset S*.\n",
    "\n",
    "    Parameters:\n",
    "        x (np.array): Array of numeric data.\n",
    "\n",
    "    Returns:\n",
    "        best_llr (float): Maximum improvement in fit (LLR score).\n",
    "        best_t (int): Index of the best change point.\n",
    "        best_subset (np.array): The anomalous subset, i.e. x[:best_t].\n",
    "    \"\"\"\n",
    "    n = len(x)\n",
    "    if n < 2:\n",
    "        return None, None, None\n",
    "\n",
    "    mean_all = np.mean(x)\n",
    "    sse_all = np.sum((x - mean_all) ** 2)\n",
    "\n",
    "    best_llr = -np.inf\n",
    "    best_t = None\n",
    "    best_subset = None\n",
    "\n",
    "    for t in range(1, n):\n",
    "        seg1 = x[:t]\n",
    "        seg2 = x[t:]\n",
    "        mean1 = np.mean(seg1)\n",
    "        mean2 = np.mean(seg2)\n",
    "        sse1 = np.sum((seg1 - mean1) ** 2)\n",
    "        sse2 = np.sum((seg2 - mean2) ** 2)\n",
    "        sse_split = sse1 + sse2\n",
    "        llr = sse_all - sse_split\n",
    "        if llr > best_llr:\n",
    "            best_llr = llr\n",
    "            best_t = t\n",
    "            best_subset = x[:t]\n",
    "\n",
    "    return best_llr, best_t, best_subset"
   ]
  },
  {
   "cell_type": "code",
   "execution_count": null,
   "metadata": {
    "colab": {
     "base_uri": "https://localhost:8080/"
    },
    "id": "76d0f203",
    "outputId": "62b52453-0ec8-46e3-9866-29491134adc9"
   },
   "outputs": [],
   "source": [
    "results = {}\n",
    "\n",
    "# Process the data on a per-region basis using 'sub-region'\n",
    "for region, group in df.groupby('sub-region'):\n",
    "    group_sorted = group.sort_values('year') # Sort by year\n",
    "    temperature_anomaly = group_sorted['value'].values # Extract emissions values\n",
    "    if len(temperature_anomaly) < 2: # Skip if not enough data points\n",
    "        continue\n",
    "\n",
    "    observed_llr, best_index, anomalous_subset = compute_llr(temperature_anomaly) # Compute LLR\n",
    "\n",
    "    # Extract all years corresponding to the anomalous subset\n",
    "    anomalous_years = group_sorted['year'].iloc[:best_index].tolist()\n",
    "    best_year = group_sorted.iloc[best_index]['year'] # Year of the most significant change point\n",
    "\n",
    "    # Perform permutation testing to compute p-value\n",
    "    num_permutations = 1000\n",
    "    llr_permutations = np.zeros(num_permutations)\n",
    "    for i in range(num_permutations):\n",
    "        emissions_perm = np.random.permutation(temperature_anomaly) # Randomly permute emissions\n",
    "        llr_perm, _, _ = compute_llr(emissions_perm) # Compute LLR for permuted data\n",
    "\n",
    "        # Handle cases where LLR is None\n",
    "        llr_permutations[i] = llr_perm if llr_perm is not None else -np.inf \n",
    "\n",
    "    # Calculate p-value as the proportion of permuted LLRs greater than or equal to observed LLR\n",
    "    p_value = np.mean(llr_permutations >= observed_llr)\n",
    "\n",
    "    # Store results\n",
    "    results[region] = {\n",
    "        'observed_llr': observed_llr, # Observed LLR score\n",
    "        'best_change_point_index': best_index, # Index of the most significant change point\n",
    "        'best_year': best_year, # Year of the most significant change point\n",
    "        'anomalous_years': anomalous_years, # Years corresponding to the anomalous subset\n",
    "        'p_value': p_value, # p-value from permutation testing\n",
    "        'n_points': len(temperature_anomaly)  # Number of data points in the region\n",
    "    }\n",
    "\n",
    "# Filter and sort results: only include countries with a p-value < 0.05. These are the countries\n",
    "# that show significant changes in emissions over time.\n",
    "filtered_sorted_results = sorted(\n",
    "    [(country, res) for country, res in results.items() if res['p_value'] < 0.05],\n",
    "    key=lambda item: item[1]['observed_llr'], reverse=True) # Sort by observed LLR.\n",
    "    # We want to regions with the most significant changes first.\n",
    "    # Note: You can also sort by p-value if we want to prioritize regions with the lowest p-values.)\n",
    "\n",
    "# Display the filtered and sorted results per region\n",
    "for region, res in filtered_sorted_results:\n",
    "    print(f\"\\nRegion: {region}\")\n",
    "    print(f\"  Observed LLR: {res['observed_llr']}\")\n",
    "    print(f\"  Best Change Point Index: {res['best_change_point_index']} (Year: {res['best_year']})\")\n",
    "    print(f\"  Anomalous Years: {res['anomalous_years']}\")\n",
    "    print(f\"  p-value from permutation testing: {res['p_value']}\")\n",
    "    print(f\"  Number of Data Points: {res['n_points']}\")"
   ]
  },
  {
   "cell_type": "markdown",
   "metadata": {
    "id": "VSzL9vemv-4R"
   },
   "source": [
    "# Graphing Change Point Anomalies\n",
    "## Surface Temperature Anomaly"
   ]
  },
  {
   "cell_type": "code",
   "execution_count": null,
   "metadata": {
    "colab": {
     "base_uri": "https://localhost:8080/",
     "height": 1000
    },
    "id": "0tTgE4SlwP8Q",
    "outputId": "636327c6-0631-40aa-828d-eee84789cdbf"
   },
   "outputs": [],
   "source": [
    "import matplotlib.pyplot as plt\n",
    "from matplotlib.patches import Patch\n",
    "\n",
    "def visualize_country_anomalies(df, results, filtered_sorted_results):\n",
    "    for region, res in filtered_sorted_results:\n",
    "        group = df[df['sub-region'] == region].sort_values('year')\n",
    "        years = group['year'].values\n",
    "        emissions = group['value'].values\n",
    "\n",
    "        plt.figure(figsize=(10, 6))\n",
    "        plt.plot(years, emissions, marker='o', label='Surface Temperature Anomaly')\n",
    "        plt.axvline(x=res['best_year'], color='red', linestyle='--', label='Change Point')\n",
    "\n",
    "        #highlight anomalous years\n",
    "        for year in res['anomalous_years']:\n",
    "            plt.axvspan(year - 0.5, year + 0.5, color='orange', alpha=0.3)\n",
    "\n",
    "        #legend for anomalous years\n",
    "        anomaly_patch = Patch(facecolor='orange', edgecolor='orange', alpha=0.3, label='Anomalous Years')\n",
    "\n",
    "        plt.title(f\"Surface Temperature Anomaly Change Point: {region}\")\n",
    "        plt.xlabel(\"Year\")\n",
    "        plt.ylabel(\"Surface Temperature Anomaly\")\n",
    "        plt.legend(handles=[plt.Line2D([0], [0], color='blue', marker='o', label='Surface Temperature Anomaly'),\n",
    "                            plt.Line2D([0], [0], color='red', linestyle='--', label='Change Point'),\n",
    "                            anomaly_patch])\n",
    "        plt.grid(True)\n",
    "        plt.tight_layout()\n",
    "        plt.show()\n",
    "\n",
    "        #print metadata\n",
    "        print(f\"Region: {region}\")\n",
    "        print(f\"  Observed LLR: {res['observed_llr']}\")\n",
    "        print(f\"  Best Change Point Index: {res['best_change_point_index']} (Year: {res['best_year']})\")\n",
    "        print(f\"  Anomalous Years: {res['anomalous_years']}\")\n",
    "        print(f\"  p-value from permutation testing: {res['p_value']}\")\n",
    "        print(f\"  Number of Data Points: {res['n_points']}\")\n",
    "        print(\"-\" * 60)\n",
    "\n",
    "#run plots for the top 3 regions\n",
    "visualize_country_anomalies(df, results, filtered_sorted_results[:5])\n",
    "\n"
   ]
  },
  {
   "cell_type": "code",
   "execution_count": null,
   "metadata": {
    "colab": {
     "base_uri": "https://localhost:8080/",
     "height": 556
    },
    "id": "yxrKpOtH2b8n",
    "outputId": "02afad6f-e9a6-4c2a-952e-176db21d74e9"
   },
   "outputs": [],
   "source": [
    "import matplotlib.pyplot as plt\n",
    "\n",
    "def plot_emissions_by_region(df):\n",
    "    # Group by sub-region and year, then compute total emissions\n",
    "    region_yearly_emissions = df.groupby(['sub-region', 'year'])['value'].sum().reset_index()\n",
    "\n",
    "    # Get list of unique sub-regions\n",
    "    regions = region_yearly_emissions['sub-region'].unique()\n",
    "\n",
    "    plt.figure(figsize=(14, 7))\n",
    "\n",
    "    # Plot each region's emissions over time\n",
    "    for region in regions:\n",
    "        region_data = region_yearly_emissions[region_yearly_emissions['sub-region'] == region]\n",
    "        plt.plot(region_data['year'], region_data['value'], label=region)\n",
    "\n",
    "    plt.title(\"Surface Temperature Anomaly Over Time by Region\")\n",
    "    plt.xlabel(\"Year\")\n",
    "    plt.ylabel(\"Surface Temperature Anomaly\")\n",
    "    plt.legend(title='Region', bbox_to_anchor=(1.05, 1), loc='upper left')\n",
    "    plt.grid(True)\n",
    "    plt.tight_layout()\n",
    "    plt.show()\n",
    "\n",
    "plot_emissions_by_region(df)\n"
   ]
  },
  {
   "cell_type": "markdown",
   "metadata": {},
   "source": [
    "# Global Change Point Analysis"
   ]
  },
  {
   "cell_type": "code",
   "execution_count": null,
   "metadata": {},
   "outputs": [],
   "source": [
    "# Calculate global surface temperature anomalies by aggregating across all regions for each year\n",
    "global_temp_by_year = df.groupby('year')['value'].sum().reset_index()\n",
    "\n",
    "# Apply the LLR change point detection to the global data\n",
    "temperature_anomaly = global_temp_by_year['value'].values\n",
    "\n",
    "# Compute LLR for global data\n",
    "observed_llr, best_index, anomalous_subset = compute_llr(temperature_anomaly)\n",
    "\n",
    "# Extract years corresponding to the anomalous subset and the best change point\n",
    "anomalous_years = global_temp_by_year['year'].iloc[:best_index].tolist()\n",
    "best_year = global_temp_by_year.iloc[best_index]['year']\n",
    "\n",
    "# Perform permutation testing to compute p-value\n",
    "num_permutations = 1000\n",
    "llr_permutations = np.zeros(num_permutations)\n",
    "\n",
    "for i in range(num_permutations):\n",
    "    emissions_perm = np.random.permutation(temperature_anomaly)\n",
    "    llr_perm, _, _ = compute_llr(emissions_perm)\n",
    "    llr_permutations[i] = llr_perm if llr_perm is not None else -np.inf\n",
    "\n",
    "# Calculate p-value\n",
    "p_value = np.mean(llr_permutations >= observed_llr)\n",
    "\n",
    "# Visualize the global change point\n",
    "plt.figure(figsize=(12, 7))\n",
    "plt.plot(global_temp_by_year['year'], global_temp_by_year['value'], \n",
    "         marker='o', label='Global Surface Temperature Anomaly')\n",
    "plt.axvline(x=best_year, color='red', linestyle='--', label=f'Change Point (Year: {best_year})')\n",
    "\n",
    "# Highlight anomalous years\n",
    "for year in anomalous_years:\n",
    "    plt.axvspan(year - 0.5, year + 0.5, color='orange', alpha=0.3)\n",
    "\n",
    "# Create legend\n",
    "anomaly_patch = Patch(facecolor='orange', edgecolor='orange', alpha=0.3, label='Anomalous Years')\n",
    "\n",
    "plt.title(\"Global Surface Temperature Anomaly Change Point\", fontsize=16)\n",
    "plt.xlabel(\"Year\", fontsize=12)\n",
    "plt.ylabel(\"Surface Temperature Anomaly\", fontsize=12)\n",
    "plt.legend(handles=[plt.Line2D([0], [0], color='blue', marker='o', label='Surface Temperature Anomaly'),\n",
    "                    plt.Line2D([0], [0], color='red', linestyle='--', label=f'Change Point (Year: {best_year})'),\n",
    "                    anomaly_patch])\n",
    "plt.grid(True)\n",
    "plt.tight_layout()\n",
    "plt.show()\n",
    "\n",
    "# Print metadata\n",
    "print(f\"Global Change Point Analysis Results:\")\n",
    "print(f\"  Observed LLR: {observed_llr:.4f}\")\n",
    "print(f\"  Best Change Point Index: {best_index} (Year: {best_year})\")\n",
    "print(f\"  Anomalous Years: {anomalous_years}\")\n",
    "print(f\"  p-value from permutation testing: {p_value:.4f}\")\n",
    "print(f\"  Number of Data Points: {len(temperature_anomaly)}\")\n",
    "print(\"-\" * 60)"
   ]
  }
 ],
 "metadata": {
  "colab": {
   "provenance": []
  },
  "kernelspec": {
   "display_name": "data_mining",
   "language": "python",
   "name": "python3"
  },
  "language_info": {
   "codemirror_mode": {
    "name": "ipython",
    "version": 3
   },
   "file_extension": ".py",
   "mimetype": "text/x-python",
   "name": "python",
   "nbconvert_exporter": "python",
   "pygments_lexer": "ipython3",
   "version": "3.13.2"
  }
 },
 "nbformat": 4,
 "nbformat_minor": 0
}
